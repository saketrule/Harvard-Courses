{
 "cells": [
  {
   "attachments": {},
   "cell_type": "markdown",
   "metadata": {},
   "source": [
    "## MIT 15.432\n",
    "### Problem Set 2\n",
    "---------------------\n",
    "\n",
    "#### MIT Collaboration Note\n",
    "\n",
    "This homework was completed in accordance with the syllabus and MIT policies on Group Work (Type 3 collaboration). Team members (cross-registered from Harvard): \n",
    "1. Saket Joshi [saket_joshi@g.harvard.edu](saket\\_joshi@g.harvard.edu)\n",
    "2. Siddhant Mukherjee [TODO ADD](add)"
   ]
  },
  {
   "attachments": {},
   "cell_type": "markdown",
   "metadata": {},
   "source": [
    "### 1.1 Problem A\n",
    "\n",
    "**A.i.** Probability of losing money in a year = 2.28%\n",
    "\n",
    "**A.ii.** Probability of losing money in a year = 15.87%\n",
    "\n",
    "**A.iii.** Probability of losing money in a year = 28.19%\n",
    "\n",
    "**A.iv.** Probability of losing money in a year = 44.97%\n",
    "\n",
    "**A.v.** Expected PnL at the end of one quarter is $10M. The standard deviation for this return is $10M. Expected 2 standard deviation range is hence expected $value \\pm 2SD$ = -$10M to +$30M.\n",
    "\n"
   ]
  },
  {
   "attachments": {},
   "cell_type": "markdown",
   "metadata": {},
   "source": [
    "### 1.1 Problem B\n",
    "\n",
    "**A.i.** Probability of losing money in a year = 2.28%\n",
    "\n",
    "**A.ii.** Probability of losing money in a year = 15.87%\n",
    "\n",
    "**A.iii.** Probability of losing money in a year = 28.19%\n",
    "\n",
    "**A.iv.** Probability of losing money in a year = 44.97%\n",
    "\n",
    "**A.v.** Expected PnL at the end of one quarter is $20M. The standard deviation for this return is $20M. Expected 2 standard deviation range is hence expected $value \\pm 2SD$ = -$20M to +$60M.\n",
    "\n"
   ]
  },
  {
   "cell_type": "code",
   "execution_count": null,
   "metadata": {
    "vscode": {
     "languageId": "plaintext"
    }
   },
   "outputs": [],
   "source": [
    "import numpy as np\n",
    "import scipy.stats as stats\n",
    "\n",
    "class norm_ret:\n",
    "    def __init__(self,ret,std):\n",
    "        self.ret = ret\n",
    "        self.std = std\n",
    "    def prob_loss_normal(self):\n",
    "        return stats.norm.cdf(-self.ret/self.std)\n",
    "    def get_win_rate(self):\n",
    "        return 1-self.prob_loss_normal()\n",
    "    def get_up_down(self):\n",
    "        down = self.ret+\\\n",
    "            self.std*stats.norm.expect\\\n",
    "                (lb=-10,ub=-self.ret/self.std)\n",
    "        up = self.ret+self.std*stats.norm.expect\\\n",
    "                (lb=-self.ret/self.std,ub=10)\n",
    "        return -up/down\n",
    "    def get_sharpe(self):\n",
    "        return self.ret/self.std\n",
    "    def adjust_time(self,time_factor):\n",
    "        return norm_ret(self.ret*time_factor,\\\n",
    "                        self.std*(time_factor)**0.5)\n",
    "    \n",
    "def prob_drawdown(annual_ret_pair,time,max_iters=10000,drawdown_days=120):\n",
    "    daily_ret = annual_ret_pair.adjust_time(1/252)\n",
    "    ret  = daily_ret.ret\n",
    "    std = daily_ret.std\n",
    "    returns = np.random.normal(ret,std,(max_iters,252*time))\n",
    "    cum_returns = np.cumsum(returns,axis=1)\n",
    "    high_water_values = np.maximum.accumulate(cum_returns,axis=1)\n",
    "    is_high_water_mark = high_water_values==cum_returns\n",
    "    high_water_marks = [np.argwhere(is_high_water_mark[i,:])[:,0]\\\n",
    "                                 for i in range(max_iters)]\n",
    "    large_drawdown = np.array([np.max\\\n",
    "                               (item[1:]-item[:-1],initial=252*time-1-item[-1])\\\n",
    "                                  for item in high_water_marks])\n",
    "    enough_drawdown = np.sum(large_drawdown>=drawdown_days,axis=0)\n",
    "    return enough_drawdown/max_iters\n",
    "    \n",
    "\n",
    "\n",
    "if __name__ == '__main__':\n",
    "    # std_list = np.linspace(0.02,0.12,int((0.12-0.02)/0.0025+1))\n",
    "    # for std in std_list:\n",
    "    #     ret_pair0 = norm_ret(0.08,std)\n",
    "    #     daily_ret = ret_pair0.adjust_time(1/252)\n",
    "    #     sharpe = ret_pair0.get_sharpe()\n",
    "    #     up_down_ratio = daily_ret.get_up_down()\n",
    "    #     win_rate = daily_ret.get_win_rate()\n",
    "    #     print(f\"{win_rate=},{up_down_ratio=},{sharpe=}\")\n",
    "    ret_pair = norm_ret(0.08*(3),0.08)\n",
    "    print(prob_drawdown(ret_pair,5))"
   ]
  },
  {
   "cell_type": "markdown",
   "metadata": {},
   "source": []
  }
 ],
 "metadata": {
  "language_info": {
   "name": "python"
  },
  "orig_nbformat": 4
 },
 "nbformat": 4,
 "nbformat_minor": 2
}
